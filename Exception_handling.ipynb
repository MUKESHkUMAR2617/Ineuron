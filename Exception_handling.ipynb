{
  "nbformat": 4,
  "nbformat_minor": 0,
  "metadata": {
    "colab": {
      "name": " Exception handling.ipynb",
      "provenance": [],
      "collapsed_sections": []
    },
    "kernelspec": {
      "name": "python3",
      "display_name": "Python 3"
    }
  },
  "cells": [
    {
      "cell_type": "markdown",
      "metadata": {
        "id": "mrQS0_2f1-6z",
        "colab_type": "text"
      },
      "source": [
        "#Assignment Exception handling "
      ]
    },
    {
      "cell_type": "code",
      "metadata": {
        "id": "dNNzMeEJ2BHb",
        "colab_type": "code",
        "colab": {
          "base_uri": "https://localhost:8080/",
          "height": 35
        },
        "outputId": "00ba97d4-7adf-48bb-8a0a-f348bc8ef450"
      },
      "source": [
        "# Task 1\n",
        "\n",
        "'''\n",
        "1. Write a function to compute 5/0 and use try/except to catch the exceptions.\n",
        "'''\n",
        "def division():\n",
        "    return 5/0\n",
        "\n",
        "try:\n",
        "    division()\n",
        "except ZeroDivisionError as ze:\n",
        "    print(\"you divide a number by zero\")\n",
        "except:\n",
        "    print(\"other\")"
      ],
      "execution_count": null,
      "outputs": [
        {
          "output_type": "stream",
          "text": [
            "you divide a number by zero\n"
          ],
          "name": "stdout"
        }
      ]
    },
    {
      "cell_type": "code",
      "metadata": {
        "id": "PUWMexKJ2Fc_",
        "colab_type": "code",
        "colab": {
          "base_uri": "https://localhost:8080/",
          "height": 156
        },
        "outputId": "653778b2-b6d2-4d58-e84e-da3df9c82bf6"
      },
      "source": [
        "# Task 2\n",
        "'''\n",
        "2. Implement a Python program to generate all sentences where subject is in\n",
        "[\"Americans\", \"Indians\"] and verb is in [\"Play\", \"watch\"] and the object is in\n",
        "[\"Baseball\",\"cricket\"].    \n",
        "    \n",
        "Hint: Subject,Verb and Object should be declared in the program as shown below.\n",
        "subjects= [\"Americans \",\"Indians\"]\n",
        "verbs=  [\"play\",\"watch\"]\n",
        "objects=  [\"Baseball\",\"Cricket\"]\n",
        "'''\n",
        "\n",
        "subject = [\"Americans\", \"Indians\"]\n",
        "verb = [\"Play\", \"watch\"]\n",
        "obj = [\"Baseball\",\"cricket\"]\n",
        "\n",
        "sentence = [(sub+\" \"+ vb + \" \" + ob) for sub in subject for vb in verb for ob in obj]\n",
        "for sentences in sentence:\n",
        "    print(sentences)"
      ],
      "execution_count": null,
      "outputs": [
        {
          "output_type": "stream",
          "text": [
            "Americans Play Baseball\n",
            "Americans Play cricket\n",
            "Americans watch Baseball\n",
            "Americans watch cricket\n",
            "Indians Play Baseball\n",
            "Indians Play cricket\n",
            "Indians watch Baseball\n",
            "Indians watch cricket\n"
          ],
          "name": "stdout"
        }
      ]
    },
    {
      "cell_type": "code",
      "metadata": {
        "id": "_bzPFucg2JCM",
        "colab_type": "code",
        "colab": {}
      },
      "source": [
        ""
      ],
      "execution_count": null,
      "outputs": []
    }
  ]
}